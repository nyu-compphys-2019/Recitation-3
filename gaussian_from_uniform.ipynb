{
 "cells": [
  {
   "cell_type": "code",
   "execution_count": null,
   "metadata": {},
   "outputs": [],
   "source": [
    "#We will take 2 uniformly distributed random variables and generate two independent normal distributions\n",
    "#Hopefully, this will help you understand better why we did those calculations today"
   ]
  },
  {
   "cell_type": "code",
   "execution_count": 10,
   "metadata": {},
   "outputs": [],
   "source": [
    "import numpy as np\n",
    "import matplotlib.pyplot as plt"
   ]
  },
  {
   "cell_type": "code",
   "execution_count": 17,
   "metadata": {},
   "outputs": [],
   "source": [
    "theta = np.random.random(1000)*(2*np.pi) #generates 1000 theta's between [0,2pi) using a uniform random variable\n",
    "r = np.sqrt(-2*np.log(np.random.random(1000))) #generates the 1000 radii using another uniform random variable "
   ]
  },
  {
   "cell_type": "code",
   "execution_count": 18,
   "metadata": {},
   "outputs": [],
   "source": [
    "#This r, theta will be used to generate 2 normal distributions "
   ]
  },
  {
   "cell_type": "code",
   "execution_count": 19,
   "metadata": {},
   "outputs": [
    {
     "data": {
      "text/plain": [
       "(array([  9.,  75., 165., 271., 234., 171.,  58.,  15.,   1.,   1.]),\n",
       " array([-2.9094588 , -2.16690128, -1.42434375, -0.68178622,  0.06077131,\n",
       "         0.80332883,  1.54588636,  2.28844389,  3.03100142,  3.77355894,\n",
       "         4.51611647]),\n",
       " <a list of 10 Patch objects>)"
      ]
     },
     "execution_count": 19,
     "metadata": {},
     "output_type": "execute_result"
    },
    {
     "data": {
      "image/png": "[encoded data removed]",
      "text/plain": [
       "<Figure size 432x288 with 1 Axes>"
      ]
     },
     "metadata": {
      "needs_background": "light"
     },
     "output_type": "display_data"
    }
   ],
   "source": [
    "plt.hist(r*np.cos(theta)) #A normal ditribution! "
   ]
  },
  {
   "cell_type": "code",
   "execution_count": 20,
   "metadata": {},
   "outputs": [
    {
     "data": {
      "text/plain": [
       "(array([  3.,  16.,  59., 152., 187., 252., 184., 101.,  38.,   8.]),\n",
       " array([-3.23848701, -2.62550262, -2.01251822, -1.39953383, -0.78654944,\n",
       "        -0.17356504,  0.43941935,  1.05240375,  1.66538814,  2.27837253,\n",
       "         2.89135693]),\n",
       " <a list of 10 Patch objects>)"
      ]
     },
     "execution_count": 20,
     "metadata": {},
     "output_type": "execute_result"
    },
    {
     "data": {
      "image/png": "[encoded data removed]",
      "text/plain": [
       "<Figure size 432x288 with 1 Axes>"
      ]
     },
     "metadata": {
      "needs_background": "light"
     },
     "output_type": "display_data"
    }
   ],
   "source": [
    "plt.hist(r*np.sin(theta)) #And one more, which is independent of the first one! "
   ]
  }
 ],
 "metadata": {
  "kernelspec": {
   "display_name": "Python 3",
   "language": "python",
   "name": "python3"
  },
  "language_info": {
   "codemirror_mode": {
    "name": "ipython",
    "version": 3
   },
   "file_extension": ".py",
   "mimetype": "text/x-python",
   "name": "python",
   "nbconvert_exporter": "python",
   "pygments_lexer": "ipython3",
   "version": "3.7.3"
  }
 },
 "nbformat": 4,
 "nbformat_minor": 2
}
